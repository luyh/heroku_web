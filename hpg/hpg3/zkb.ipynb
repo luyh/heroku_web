{
 "cells": [
  {
   "cell_type": "code",
   "execution_count": 4,
   "metadata": {},
   "outputs": [
    {
     "name": "stdout",
     "output_type": "stream",
     "text": [
      "正在连接chrome浏览器...\n"
     ]
    },
    {
     "name": "stdout",
     "output_type": "stream",
     "text": [
      "已打开chrome浏览器，并成功连接\n正在连接chrome浏览器...\n"
     ]
    },
    {
     "name": "stdout",
     "output_type": "stream",
     "text": [
      "已打开chrome浏览器，并成功连接\n<selenium.webdriver.chrome.webdriver.WebDriver (session=\"52038ef18017b35137b12f2bbbc28eb2\")> <selenium.webdriver.chrome.webdriver.WebDriver (session=\"6586ca432e30c252e64f45903ff977bf\")>\n"
     ]
    }
   ],
   "source": [
    "# Filename: hpgclass.py\n",
    "import time\n",
    "from usermodule.ulity.send_wechat import send_wechat\n",
    "import sys,os\n",
    "import chrome\n",
    "from selenium.webdriver.common.action_chains import ActionChains\n",
    "\n",
    "hpg = chrome.chrome()\n",
    "zkb = chrome.chrome()\n",
    "\n",
    "print(hpg,zkb)\n",
    "\n"
   ]
  },
  {
   "cell_type": "code",
   "execution_count": 7,
   "metadata": {},
   "outputs": [
    {
     "name": "stdout",
     "output_type": "stream",
     "text": [
      "打开zkb\n"
     ]
    },
    {
     "name": "stdout",
     "output_type": "stream",
     "text": [
      "徒弟登录\n输入用户名及密码...\n"
     ]
    },
    {
     "name": "stdout",
     "output_type": "stream",
     "text": [
      "点击登陆...\n"
     ]
    },
    {
     "name": "stdout",
     "output_type": "stream",
     "text": [
      "已登陆zkb\n登陆HPG...\n"
     ]
    },
    {
     "name": "stdout",
     "output_type": "stream",
     "text": [
      "T - 上海发传单\n输入用户名及密码...\n"
     ]
    },
    {
     "name": "stdout",
     "output_type": "stream",
     "text": [
      "点击登陆...\n"
     ]
    },
    {
     "name": "stdout",
     "output_type": "stream",
     "text": [
      "已登陆HPG，完成初始化操作\nlogin login\n"
     ]
    }
   ],
   "source": [
    "\n",
    "def login(driver):\n",
    "    if driver == zkb :\n",
    "        print('打开zkb')\n",
    "        driver.get(\"http://zhuankeban.com/jsp/Mobile/apprentice/ApprenticeLogin.jsp\")\n",
    "        print(driver.title)\n",
    "        \n",
    "        print('输入用户名及密码...')\n",
    "        username = os.environ.get( 'HPG_USER' )  # 用户名\n",
    "        username_element = driver.find_element_by_id('user_account')\n",
    "        username_element.clear()\n",
    "        username_element.send_keys(username)\n",
    "        \n",
    "        password = os.environ.get( 'HPG_PASS' )  #\n",
    "        password_element = driver.find_element_by_id('user_password')\n",
    "        password_element.clear()\n",
    "        password_element.send_keys(password)\n",
    "        \n",
    "        print('点击登陆...')\n",
    "        sighinButton = driver.find_element_by_id('Signin')\n",
    "        sighinButton.click()\n",
    "        time.sleep(2)\n",
    "        print( '已登陆zkb' )\n",
    "        \n",
    "    elif driver == hpg :\n",
    "        # 打开网页\n",
    "        print('登陆HPG...')\n",
    "        url = \"http://hpg.sqk2.cn/public/apprentice.php/passport/login.html\"\n",
    "        driver.get(url)\n",
    "        print(driver.title)\n",
    "        \n",
    "        # 输入用户名及密码\n",
    "        print( '输入用户名及密码...' )\n",
    "        username = os.environ.get( 'HPG_USER' )  # 用户名\n",
    "        username_element = driver.find_element_by_id( 'username' )\n",
    "        username_element.clear()\n",
    "        username_element.send_keys( username )\n",
    "        \n",
    "        password = os.environ.get( 'HPG_PASS' )  #\n",
    "        password_element = driver.find_element_by_id( 'password' )\n",
    "        password_element.clear()\n",
    "        password_element.send_keys( password )\n",
    "        \n",
    "        print( '点击登陆...' )\n",
    "        login_element = driver.find_element_by_id( 'login-btn' )\n",
    "        login_element.click()\n",
    "        time.sleep( 2 )\n",
    "        print( '已登陆HPG，完成初始化操作' )\n",
    "    else:\n",
    "        print('没有此页面')\n",
    "        \n",
    "    return 'toBuy'\n",
    "\n",
    "status_zkb = login(zkb)\n",
    "status_hpg = login(hpg)\n",
    "\n",
    "print(status_zkb,status_hpg)\n"
   ]
  },
  {
   "cell_type": "code",
   "execution_count": 8,
   "metadata": {},
   "outputs": [
    {
     "name": "stdout",
     "output_type": "stream",
     "text": [
      "切换到zkb我要买页面\n"
     ]
    },
    {
     "name": "stdout",
     "output_type": "stream",
     "text": [
      "已切换到我要买页面\n切换到hpg我要买页面\n"
     ]
    },
    {
     "name": "stdout",
     "output_type": "stream",
     "text": [
      "已切换到我要买页面\ntoBuy toBuy\n"
     ]
    }
   ],
   "source": [
    "def toBuy(driver):\n",
    "    if driver == hpg:\n",
    "        print('切换到hpg我要买页面')\n",
    "        url = 'http://hpg.sqk2.cn/public/apprentice.php/task/index.html'\n",
    "    elif driver == zkb:\n",
    "        print('切换到zkb我要买页面')\n",
    "        url = 'http://zhuankeban.com/webmobile/apprentice/toBuy.do'\n",
    "    driver.get(url)\n",
    "    print('已切换到我要买页面')\n",
    "    \n",
    "    return 'quere_task'\n",
    "    \n",
    "status_zkb = toBuy(zkb) \n",
    "status_hpg = toBuy(hpg) \n",
    "\n",
    "print(status_zkb,status_hpg)"
   ]
  },
  {
   "cell_type": "code",
   "execution_count": 9,
   "metadata": {},
   "outputs": [
    {
     "name": "stdout",
     "output_type": "stream",
     "text": [
      "queue_task queue_task\n"
     ]
    }
   ],
   "source": [
    "def queue_up_task(driver):\n",
    "    if driver == zkb:\n",
    "        receive_btn = driver.find_element_by_id('queue-up-task')\n",
    "        receive_btn.click()\n",
    "    if driver == hpg:\n",
    "        normal_task = driver.find_element_by_id('normal-task')\n",
    "        normal_task.click()\n",
    "        time.sleep(1)\n",
    "        activity_task = driver.find_element_by_id('activity-task')\n",
    "        activity_task.click()\n",
    "        \n",
    "    time.sleep(1)\n",
    "    \n",
    "    return 'wait_task'\n",
    "\n",
    "\n",
    "status_hpg = queue_up_task(hpg)\n",
    "status_zkb = queue_up_task(zkb)\n",
    "print(status_zkb,status_hpg)"
   ]
  },
  {
   "cell_type": "code",
   "execution_count": 19,
   "metadata": {
    "collapsed": true
   },
   "outputs": [
    {
     "name": "stdout",
     "output_type": "stream",
     "text": [
      "领取\n点击领取\nreceive_task\n"
     ]
    },
    {
     "name": "stdout",
     "output_type": "stream",
     "text": [
      "点击领取按钮\n领取\n"
     ]
    },
    {
     "name": "stdout",
     "output_type": "stream",
     "text": [
      "receive_task\n"
     ]
    }
   ],
   "source": [
    "\n",
    "\n",
    "def wait_task(driver):\n",
    "    driver.refresh()\n",
    "    time.sleep(3)\n",
    "    if driver == zkb:\n",
    "        try:\n",
    "            receiveBut = driver.find_element_by_xpath('/html/body/section/div[3]/div/div[2]')\n",
    "            print(receiveBut.text)\n",
    "            if receiveBut.text == \"领取\":\n",
    "                print('点击领取')\n",
    "                ActionChains(driver).click(receiveBut).perform()\n",
    "                return 'receive_task'\n",
    "        except:\n",
    "            print('没找到领取按钮')\n",
    "            return 'check_status'\n",
    "    \n",
    "    elif driver ==hpg:\n",
    "        try:\n",
    "            #recieveBut 定位错\n",
    "            receiveBut = driver.find_element_by_xpath('//*[@id=\"operation\"]/a[2]')\n",
    "            print('点击领取按钮')\n",
    "            print(receiveBut.text)\n",
    "            ActionChains(driver).click(receiveBut).perform()\n",
    "            return 'receive_task'\n",
    "        except:  \n",
    "            print('没找到领取按钮')\n",
    "            return 'check_status'\n",
    "\n",
    "        \n",
    "status_zkb = wait_task(zkb)\n",
    "print(status_zkb)\n",
    "status_hpg = wait_task(hpg)\n",
    "print(status_hpg)"
   ]
  },
  {
   "cell_type": "code",
   "execution_count": 22,
   "metadata": {},
   "outputs": [],
   "source": [
    "def check_status(driver):\n",
    "    driver.refresh()\n",
    "    time.sleep(3)\n",
    "    if '{\"code\":\"666\",\"msg\":\"登录失效\",\"success\":false}' in driver.page_source:\n",
    "        return 'error'\n",
    "    \n",
    "check_status(hpg)\n",
    "check_status(zkb)"
   ]
  },
  {
   "cell_type": "code",
   "execution_count": 24,
   "metadata": {
    "collapsed": true
   },
   "outputs": [
    {
     "ename": "NoSuchElementException",
     "evalue": "Message: no such element: Unable to locate element: {\"method\":\"id\",\"selector\":\"queue-up-task\"}\n  (Session info: chrome=73.0.3683.86)\n  (Driver info: chromedriver=72.0.3626.69 (3c16f8a135abc0d4da2dff33804db79b849a7c38),platform=Mac OS X 10.13.3 x86_64)\n",
     "traceback": [
      "\u001b[0;31m---------------------------------------------------------------------------\u001b[0m",
      "\u001b[0;31mNoSuchElementException\u001b[0m                    Traceback (most recent call last)",
      "\u001b[0;32m<ipython-input-24-ab925b1b32f1>\u001b[0m in \u001b[0;36m<module>\u001b[0;34m()\u001b[0m\n\u001b[1;32m     18\u001b[0m \u001b[0;34m\u001b[0m\u001b[0m\n\u001b[1;32m     19\u001b[0m \u001b[0;34m\u001b[0m\u001b[0m\n\u001b[0;32m---> 20\u001b[0;31m \u001b[0mrun\u001b[0m\u001b[0;34m(\u001b[0m\u001b[0mzkb\u001b[0m\u001b[0;34m,\u001b[0m\u001b[0mstatus_zkb\u001b[0m\u001b[0;34m)\u001b[0m\u001b[0;34m\u001b[0m\u001b[0m\n\u001b[0m\u001b[1;32m     21\u001b[0m \u001b[0mrun\u001b[0m\u001b[0;34m(\u001b[0m\u001b[0mhpg\u001b[0m\u001b[0;34m,\u001b[0m\u001b[0mstatus_hpg\u001b[0m\u001b[0;34m)\u001b[0m\u001b[0;34m\u001b[0m\u001b[0m\n\u001b[1;32m     22\u001b[0m \u001b[0;34m\u001b[0m\u001b[0m\n",
      "\u001b[0;32m<ipython-input-24-ab925b1b32f1>\u001b[0m in \u001b[0;36mrun\u001b[0;34m(driver, status)\u001b[0m\n\u001b[1;32m     12\u001b[0m         \u001b[0mcheck_status\u001b[0m\u001b[0;34m(\u001b[0m\u001b[0;34m)\u001b[0m\u001b[0;34m\u001b[0m\u001b[0m\n\u001b[1;32m     13\u001b[0m     \u001b[0;32melif\u001b[0m \u001b[0mstatus\u001b[0m \u001b[0;34m==\u001b[0m \u001b[0;34m'queue_task'\u001b[0m\u001b[0;34m:\u001b[0m\u001b[0;34m\u001b[0m\u001b[0m\n\u001b[0;32m---> 14\u001b[0;31m         \u001b[0mqueue_up_task\u001b[0m\u001b[0;34m(\u001b[0m\u001b[0mdriver\u001b[0m\u001b[0;34m)\u001b[0m\u001b[0;34m\u001b[0m\u001b[0m\n\u001b[0m\u001b[1;32m     15\u001b[0m     \u001b[0;32melif\u001b[0m \u001b[0mstatus\u001b[0m \u001b[0;34m==\u001b[0m \u001b[0;34m'receive_task'\u001b[0m\u001b[0;34m:\u001b[0m\u001b[0;34m\u001b[0m\u001b[0m\n\u001b[1;32m     16\u001b[0m         \u001b[0mprint\u001b[0m\u001b[0;34m(\u001b[0m\u001b[0;34m'received task'\u001b[0m\u001b[0;34m)\u001b[0m\u001b[0;34m\u001b[0m\u001b[0m\n",
      "\u001b[0;32m<ipython-input-9-2ba5330d0805>\u001b[0m in \u001b[0;36mqueue_up_task\u001b[0;34m(driver)\u001b[0m\n\u001b[1;32m      1\u001b[0m \u001b[0;32mdef\u001b[0m \u001b[0mqueue_up_task\u001b[0m\u001b[0;34m(\u001b[0m\u001b[0mdriver\u001b[0m\u001b[0;34m)\u001b[0m\u001b[0;34m:\u001b[0m\u001b[0;34m\u001b[0m\u001b[0m\n\u001b[1;32m      2\u001b[0m     \u001b[0;32mif\u001b[0m \u001b[0mdriver\u001b[0m \u001b[0;34m==\u001b[0m \u001b[0mzkb\u001b[0m\u001b[0;34m:\u001b[0m\u001b[0;34m\u001b[0m\u001b[0m\n\u001b[0;32m----> 3\u001b[0;31m         \u001b[0mreceive_btn\u001b[0m \u001b[0;34m=\u001b[0m \u001b[0mdriver\u001b[0m\u001b[0;34m.\u001b[0m\u001b[0mfind_element_by_id\u001b[0m\u001b[0;34m(\u001b[0m\u001b[0;34m'queue-up-task'\u001b[0m\u001b[0;34m)\u001b[0m\u001b[0;34m\u001b[0m\u001b[0m\n\u001b[0m\u001b[1;32m      4\u001b[0m         \u001b[0mreceive_btn\u001b[0m\u001b[0;34m.\u001b[0m\u001b[0mclick\u001b[0m\u001b[0;34m(\u001b[0m\u001b[0;34m)\u001b[0m\u001b[0;34m\u001b[0m\u001b[0m\n\u001b[1;32m      5\u001b[0m     \u001b[0;32mif\u001b[0m \u001b[0mdriver\u001b[0m \u001b[0;34m==\u001b[0m \u001b[0mhpg\u001b[0m\u001b[0;34m:\u001b[0m\u001b[0;34m\u001b[0m\u001b[0m\n",
      "\u001b[0;32m/Library/Frameworks/Python.framework/Versions/3.6/lib/python3.6/site-packages/selenium/webdriver/remote/webdriver.py\u001b[0m in \u001b[0;36mfind_element_by_id\u001b[0;34m(self, id_)\u001b[0m\n\u001b[1;32m    349\u001b[0m             \u001b[0melement\u001b[0m \u001b[0;34m=\u001b[0m \u001b[0mdriver\u001b[0m\u001b[0;34m.\u001b[0m\u001b[0mfind_element_by_id\u001b[0m\u001b[0;34m(\u001b[0m\u001b[0;34m'foo'\u001b[0m\u001b[0;34m)\u001b[0m\u001b[0;34m\u001b[0m\u001b[0m\n\u001b[1;32m    350\u001b[0m         \"\"\"\n\u001b[0;32m--> 351\u001b[0;31m         \u001b[0;32mreturn\u001b[0m \u001b[0mself\u001b[0m\u001b[0;34m.\u001b[0m\u001b[0mfind_element\u001b[0m\u001b[0;34m(\u001b[0m\u001b[0mby\u001b[0m\u001b[0;34m=\u001b[0m\u001b[0mBy\u001b[0m\u001b[0;34m.\u001b[0m\u001b[0mID\u001b[0m\u001b[0;34m,\u001b[0m \u001b[0mvalue\u001b[0m\u001b[0;34m=\u001b[0m\u001b[0mid_\u001b[0m\u001b[0;34m)\u001b[0m\u001b[0;34m\u001b[0m\u001b[0m\n\u001b[0m\u001b[1;32m    352\u001b[0m \u001b[0;34m\u001b[0m\u001b[0m\n\u001b[1;32m    353\u001b[0m     \u001b[0;32mdef\u001b[0m \u001b[0mfind_elements_by_id\u001b[0m\u001b[0;34m(\u001b[0m\u001b[0mself\u001b[0m\u001b[0;34m,\u001b[0m \u001b[0mid_\u001b[0m\u001b[0;34m)\u001b[0m\u001b[0;34m:\u001b[0m\u001b[0;34m\u001b[0m\u001b[0m\n",
      "\u001b[0;32m/Library/Frameworks/Python.framework/Versions/3.6/lib/python3.6/site-packages/selenium/webdriver/remote/webdriver.py\u001b[0m in \u001b[0;36mfind_element\u001b[0;34m(self, by, value)\u001b[0m\n\u001b[1;32m    953\u001b[0m         return self.execute(Command.FIND_ELEMENT, {\n\u001b[1;32m    954\u001b[0m             \u001b[0;34m'using'\u001b[0m\u001b[0;34m:\u001b[0m \u001b[0mby\u001b[0m\u001b[0;34m,\u001b[0m\u001b[0;34m\u001b[0m\u001b[0m\n\u001b[0;32m--> 955\u001b[0;31m             'value': value})['value']\n\u001b[0m\u001b[1;32m    956\u001b[0m \u001b[0;34m\u001b[0m\u001b[0m\n\u001b[1;32m    957\u001b[0m     \u001b[0;32mdef\u001b[0m \u001b[0mfind_elements\u001b[0m\u001b[0;34m(\u001b[0m\u001b[0mself\u001b[0m\u001b[0;34m,\u001b[0m \u001b[0mby\u001b[0m\u001b[0;34m=\u001b[0m\u001b[0mBy\u001b[0m\u001b[0;34m.\u001b[0m\u001b[0mID\u001b[0m\u001b[0;34m,\u001b[0m \u001b[0mvalue\u001b[0m\u001b[0;34m=\u001b[0m\u001b[0;32mNone\u001b[0m\u001b[0;34m)\u001b[0m\u001b[0;34m:\u001b[0m\u001b[0;34m\u001b[0m\u001b[0m\n",
      "\u001b[0;32m/Library/Frameworks/Python.framework/Versions/3.6/lib/python3.6/site-packages/selenium/webdriver/remote/webdriver.py\u001b[0m in \u001b[0;36mexecute\u001b[0;34m(self, driver_command, params)\u001b[0m\n\u001b[1;32m    310\u001b[0m         \u001b[0mresponse\u001b[0m \u001b[0;34m=\u001b[0m \u001b[0mself\u001b[0m\u001b[0;34m.\u001b[0m\u001b[0mcommand_executor\u001b[0m\u001b[0;34m.\u001b[0m\u001b[0mexecute\u001b[0m\u001b[0;34m(\u001b[0m\u001b[0mdriver_command\u001b[0m\u001b[0;34m,\u001b[0m \u001b[0mparams\u001b[0m\u001b[0;34m)\u001b[0m\u001b[0;34m\u001b[0m\u001b[0m\n\u001b[1;32m    311\u001b[0m         \u001b[0;32mif\u001b[0m \u001b[0mresponse\u001b[0m\u001b[0;34m:\u001b[0m\u001b[0;34m\u001b[0m\u001b[0m\n\u001b[0;32m--> 312\u001b[0;31m             \u001b[0mself\u001b[0m\u001b[0;34m.\u001b[0m\u001b[0merror_handler\u001b[0m\u001b[0;34m.\u001b[0m\u001b[0mcheck_response\u001b[0m\u001b[0;34m(\u001b[0m\u001b[0mresponse\u001b[0m\u001b[0;34m)\u001b[0m\u001b[0;34m\u001b[0m\u001b[0m\n\u001b[0m\u001b[1;32m    313\u001b[0m             response['value'] = self._unwrap_value(\n\u001b[1;32m    314\u001b[0m                 response.get('value', None))\n",
      "\u001b[0;32m/Library/Frameworks/Python.framework/Versions/3.6/lib/python3.6/site-packages/selenium/webdriver/remote/errorhandler.py\u001b[0m in \u001b[0;36mcheck_response\u001b[0;34m(self, response)\u001b[0m\n\u001b[1;32m    235\u001b[0m         \u001b[0;32melif\u001b[0m \u001b[0mexception_class\u001b[0m \u001b[0;34m==\u001b[0m \u001b[0mUnexpectedAlertPresentException\u001b[0m \u001b[0;32mand\u001b[0m \u001b[0;34m'alert'\u001b[0m \u001b[0;32min\u001b[0m \u001b[0mvalue\u001b[0m\u001b[0;34m:\u001b[0m\u001b[0;34m\u001b[0m\u001b[0m\n\u001b[1;32m    236\u001b[0m             \u001b[0;32mraise\u001b[0m \u001b[0mexception_class\u001b[0m\u001b[0;34m(\u001b[0m\u001b[0mmessage\u001b[0m\u001b[0;34m,\u001b[0m \u001b[0mscreen\u001b[0m\u001b[0;34m,\u001b[0m \u001b[0mstacktrace\u001b[0m\u001b[0;34m,\u001b[0m \u001b[0mvalue\u001b[0m\u001b[0;34m[\u001b[0m\u001b[0;34m'alert'\u001b[0m\u001b[0;34m]\u001b[0m\u001b[0;34m.\u001b[0m\u001b[0mget\u001b[0m\u001b[0;34m(\u001b[0m\u001b[0;34m'text'\u001b[0m\u001b[0;34m)\u001b[0m\u001b[0;34m)\u001b[0m\u001b[0;34m\u001b[0m\u001b[0m\n\u001b[0;32m--> 237\u001b[0;31m         \u001b[0;32mraise\u001b[0m \u001b[0mexception_class\u001b[0m\u001b[0;34m(\u001b[0m\u001b[0mmessage\u001b[0m\u001b[0;34m,\u001b[0m \u001b[0mscreen\u001b[0m\u001b[0;34m,\u001b[0m \u001b[0mstacktrace\u001b[0m\u001b[0;34m)\u001b[0m\u001b[0;34m\u001b[0m\u001b[0m\n\u001b[0m\u001b[1;32m    238\u001b[0m \u001b[0;34m\u001b[0m\u001b[0m\n\u001b[1;32m    239\u001b[0m     \u001b[0;32mdef\u001b[0m \u001b[0m_value_or_default\u001b[0m\u001b[0;34m(\u001b[0m\u001b[0mself\u001b[0m\u001b[0;34m,\u001b[0m \u001b[0mobj\u001b[0m\u001b[0;34m,\u001b[0m \u001b[0mkey\u001b[0m\u001b[0;34m,\u001b[0m \u001b[0mdefault\u001b[0m\u001b[0;34m)\u001b[0m\u001b[0;34m:\u001b[0m\u001b[0;34m\u001b[0m\u001b[0m\n",
      "\u001b[0;31mNoSuchElementException\u001b[0m: Message: no such element: Unable to locate element: {\"method\":\"id\",\"selector\":\"queue-up-task\"}\n  (Session info: chrome=73.0.3683.86)\n  (Driver info: chromedriver=72.0.3626.69 (3c16f8a135abc0d4da2dff33804db79b849a7c38),platform=Mac OS X 10.13.3 x86_64)\n"
     ],
     "output_type": "error"
    }
   ],
   "source": [
    "status_zkb = 'queue_task'\n",
    "status_hpg = 'receive_task'\n",
    "\n",
    "def run(driver,status):\n",
    "    if status == 'error':\n",
    "        login(driver)\n",
    "        \n",
    "    elif status == 'login':    \n",
    "        toBuy(driver)\n",
    "        queue_up_task(driver)\n",
    "    elif status == 'checks_tatus':\n",
    "        check_status()\n",
    "    elif status == 'queue_task':\n",
    "        queue_up_task(driver)\n",
    "    elif status == 'receive_task':\n",
    "        print('received task')\n",
    "        \n",
    "        \n",
    "        \n",
    "run(zkb,status_zkb)\n",
    "run(hpg,status_hpg)\n",
    "    "
   ]
  },
  {
   "cell_type": "code",
   "execution_count": 67,
   "metadata": {
    "collapsed": true
   },
   "outputs": [
    {
     "name": "stdout",
     "output_type": "stream",
     "text": [
      "('渔夫帽', 'https://img.alicdn.com/imgextra/https://img.alicdn.com/imgextra/i3/3999653092/O1CN01nS86bp1YiB93St964_!!3999653092.jpg', '96.00', '收藏或者加购付款 物流到了5星好评')\nNone\n"
     ]
    }
   ],
   "source": [
    "def taskInfo(driver):\n",
    "    if driver == zkb:\n",
    "        key_word = driver.find_element_by_id('target').get_attribute('value')\n",
    "        #print(key_word)\n",
    "        main_link = driver.find_element_by_class_name('main_link').get_attribute('src')\n",
    "        #print(main_link)\n",
    "        price = driver.find_element_by_class_name('customer_order').text\n",
    "        remarks_word = driver.find_element_by_class_name('remarks_word').text\n",
    "        #print(price,remarks_word)\n",
    "        return key_word,main_link,price,remarks_word\n",
    "    \n",
    "    elif driver ==hpg:\n",
    "        pass\n",
    "\n",
    "zkb_info = taskInfo(zkb)\n",
    "print(zkb_info)\n",
    "hpg_info = taskInfo(hpg)\n",
    "print(hpg_info)\n"
   ]
  },
  {
   "cell_type": "code",
   "execution_count": 52,
   "metadata": {
    "collapsed": true
   },
   "outputs": [
    {
     "name": "stdout",
     "output_type": "stream",
     "text": [
      "关键词：渔夫帽 ![商品图片](https://img.alicdn.com/imgextra/https://img.alicdn.com/imgextra/i3/3999653092/O1CN01nS86bp1YiB93St964_!!3999653092.jpg)  \n\n免运费：96.00 元\n\n备注：收藏或者加购付款 物流到了5星好评\n"
     ]
    },
    {
     "name": "stdout",
     "output_type": "stream",
     "text": [
      "b'{\"errno\":0,\"errmsg\":\"success\",\"dataset\":\"done\"}'\n{'text': '接到zkb刷单任务', 'desp': '关键词：渔夫帽 ![商品图片](https://img.alicdn.com/imgextra/https://img.alicdn.com/imgextra/i3/3999653092/O1CN01nS86bp1YiB93St964_!!3999653092.jpg)  \\n\\n免运费：96.00 元\\n\\n备注：收藏或者加购付款 物流到了5星好评\\n\\n2019-04-07 11:16:40'}\n"
     ]
    }
   ],
   "source": [
    "from usermodule.ulity.send_wechat import send_wechat\n",
    "\n",
    "text ='关键词：{} ![商品图片]({})  \\n\\n免运费：{} 元\\n\\n备注：{}'.\\\n",
    "    format(info[0],info[1],info[2],info[3])\n",
    "print(text)\n",
    "\n",
    "send_wechat('接到zkb刷单任务',text)\n",
    "    "
   ]
  },
  {
   "cell_type": "code",
   "execution_count": 70,
   "metadata": {},
   "outputs": [
    {
     "name": "stdout",
     "output_type": "stream",
     "text": [
      "2019-04-06 23:13:13 邮件发送成功\n"
     ]
    }
   ],
   "source": [
    "from usermodule.ulity.send_email import send_email\n",
    "\n",
    "send_email(title='接到刷单任务',content = text)"
   ]
  },
  {
   "cell_type": "code",
   "execution_count": 62,
   "metadata": {},
   "outputs": [
    {
     "name": "stdout",
     "output_type": "stream",
     "text": [
      "正在连接chrome浏览器...\n"
     ]
    },
    {
     "name": "stdout",
     "output_type": "stream",
     "text": [
      "已打开chrome浏览器，并成功连接\n打开taobao\n"
     ]
    },
    {
     "name": "stdout",
     "output_type": "stream",
     "text": [
      "淘宝网 - 淘！我喜欢\n请自行完成登陆操作\n"
     ]
    }
   ],
   "source": [
    "taobao = chrome()\n",
    "def taobao_login():\n",
    "        print('打开taobao')\n",
    "        taobao.get(\"https://login.taobao.com\")\n",
    "        print(taobao.title)\n",
    "        print('请自行完成登陆操作')\n",
    "        \n",
    "#TODO:发送淘宝二维码给手机淘宝扫码登陆\n",
    "        \n",
    "taobao_login()"
   ]
  },
  {
   "cell_type": "code",
   "execution_count": 71,
   "metadata": {},
   "outputs": [],
   "source": [
    "taobao_search = taobao.find_element_by_id('q')\n",
    "taobao_search.clear()\n",
    "taobao_search.send_keys(zkb_info[0])\n",
    "taobao_search.send_keys(Keys.ENTER)"
   ]
  },
  {
   "cell_type": "code",
   "execution_count": 72,
   "metadata": {},
   "outputs": [],
   "source": [
    "js = js=\"window.open('http://m.taobao.com');\"\n",
    "taobao.execute_script(js)"
   ]
  },
  {
   "cell_type": "code",
   "execution_count": 73,
   "metadata": {},
   "outputs": [],
   "source": [
    "refresh__thread(taobao)"
   ]
  },
  {
   "cell_type": "code",
   "execution_count": null,
   "metadata": {},
   "outputs": [],
   "source": []
  }
 ],
 "metadata": {
  "kernelspec": {
   "display_name": "Python 2",
   "language": "python",
   "name": "python2"
  },
  "language_info": {
   "codemirror_mode": {
    "name": "ipython",
    "version": 2
   },
   "file_extension": ".py",
   "mimetype": "text/x-python",
   "name": "python",
   "nbconvert_exporter": "python",
   "pygments_lexer": "ipython2",
   "version": "2.7.6"
  }
 },
 "nbformat": 4,
 "nbformat_minor": 0
}
